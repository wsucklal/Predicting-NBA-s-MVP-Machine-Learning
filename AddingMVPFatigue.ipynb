{
 "cells": [
  {
   "cell_type": "markdown",
   "id": "63c1f074",
   "metadata": {},
   "source": [
    "# Script for Data Cleaning"
   ]
  },
  {
   "cell_type": "code",
   "execution_count": 5,
   "id": "0e462275",
   "metadata": {},
   "outputs": [],
   "source": [
    "import pandas as pd\n",
    "\n",
    "file_path = 'data/master_table_final.csv'\n",
    "data = pd.read_csv(file_path)\n",
    "\n",
    "# Remove T's representing ties in rank\n",
    "data['Rank'] = data['Rank'].apply(lambda x: int(str(x).split('T')[0]))\n",
    "\n",
    "# Sort the DataFrame by player/year\n",
    "data_sorted = data.sort_values(by=['Player', 'year'])\n",
    "\n",
    "# Initialize new columns\n",
    "data_sorted['won2yearsago'] = 0\n",
    "data_sorted['won1yearago'] = 0\n",
    "\n",
    "# Iterate over the sorted DataFrame to fill in the new columns\n",
    "for i in range(1, len(data_sorted)):\n",
    "    if data_sorted.iloc[i]['Player'] == data_sorted.iloc[i-1]['Player']:\n",
    "        # Check if the player won MVP 1 year ago\n",
    "        if data_sorted.iloc[i]['year'] - data_sorted.iloc[i-1]['year'] == 1 and data_sorted.iloc[i-1]['Rank'] == 1:\n",
    "            data_sorted.iloc[i, data_sorted.columns.get_loc('won1yearago')] = 1\n",
    "        # Check if the player won MVP 2 years ago\n",
    "        if i > 1 and data_sorted.iloc[i]['Player'] == data_sorted.iloc[i-2]['Player']:\n",
    "            if data_sorted.iloc[i]['year'] - data_sorted.iloc[i-2]['year'] == 2 and data_sorted.iloc[i-2]['Rank'] == 1:\n",
    "                data_sorted.iloc[i, data_sorted.columns.get_loc('won2yearsago')] = 1\n",
    "\n",
    "data_sorted = data_sorted.sort_values(by=['year', 'Rank'])\n",
    "\n",
    "output_path = 'data/master_table_final_fatigue.csv'\n",
    "data_sorted.to_csv(output_path, index=False)\n"
   ]
  },
  {
   "cell_type": "code",
   "execution_count": null,
   "id": "0e56cec9",
   "metadata": {},
   "outputs": [],
   "source": []
  }
 ],
 "metadata": {
  "kernelspec": {
   "display_name": "Python 3 (ipykernel)",
   "language": "python",
   "name": "python3"
  },
  "language_info": {
   "codemirror_mode": {
    "name": "ipython",
    "version": 3
   },
   "file_extension": ".py",
   "mimetype": "text/x-python",
   "name": "python",
   "nbconvert_exporter": "python",
   "pygments_lexer": "ipython3",
   "version": "3.9.13"
  }
 },
 "nbformat": 4,
 "nbformat_minor": 5
}
